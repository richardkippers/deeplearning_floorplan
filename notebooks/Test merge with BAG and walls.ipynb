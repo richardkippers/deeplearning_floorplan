{
 "cells": [
  {
   "cell_type": "code",
   "execution_count": 1,
   "metadata": {},
   "outputs": [],
   "source": [
    "import os\n",
    "os.chdir(\"../\")\n",
    "os.environ[\"CUDA_VISIBLE_DEVICES\"] = \"-1\" # disable tensorflow GPU\n",
    "import sys\n",
    "sys.path.insert(0, \"src\")"
   ]
  },
  {
   "cell_type": "code",
   "execution_count": 12,
   "metadata": {},
   "outputs": [],
   "source": [
    "from shapely.geometry import Point, Polygon, MultiPolygon\n",
    "import matplotlib.pyplot as plt\n",
    "import numpy as np\n",
    "from readers.tud_3dbag_cityjson import get_tile_id, download_tile, open_tile, get_building, get_building_surface\n",
    "from readers.nwb_roads import get_roads_as_linestrings"
   ]
  },
  {
   "cell_type": "markdown",
   "metadata": {},
   "source": [
    "## Load building"
   ]
  },
  {
   "cell_type": "code",
   "execution_count": 3,
   "metadata": {},
   "outputs": [],
   "source": [
    "bag_id = \"0200100000532701\" \n",
    "house_epsg = Point((197906,467621))\n",
    "\n",
    "tile_id = get_tile_id(house_epsg)\n",
    "download_tile(tile_id)\n",
    "\n",
    "\n",
    "cityjson_file = open_tile(tile_id)\n",
    "\n",
    "\n",
    "building_cityjson = get_building(cityjson_file, bag_id)\n",
    "surface = get_building_surface(building_cityjson, cityjson_file)"
   ]
  },
  {
   "cell_type": "code",
   "execution_count": 4,
   "metadata": {},
   "outputs": [
    {
     "data": {
      "image/svg+xml": [
       "<svg xmlns=\"http://www.w3.org/2000/svg\" xmlns:xlink=\"http://www.w3.org/1999/xlink\" width=\"100.0\" height=\"100.0\" viewBox=\"197899.14930453125 467615.18414974614 11.672679999988759 14.845679999969434\" preserveAspectRatio=\"xMinYMin meet\"><g transform=\"matrix(1,0,0,-1,0,935245.2139794922)\"><path fill-rule=\"evenodd\" fill=\"#66cc99\" stroke=\"#555555\" stroke-width=\"0.29691359999938866\" opacity=\"0.6\" d=\"M 197904.37114453124,467629.4799897461 L 197905.86214453125,467627.01698974613 L 197905.47314453125,467626.7429897461 L 197905.15114453124,467626.51698974613 L 197907.33314453124,467622.9219897461 L 197910.27214453125,467618.0799897461 L 197906.77314453124,467615.9339897461 L 197906.13514453123,467616.9719897461 L 197904.09514453125,467615.73398974614 L 197902.06114453124,467619.0859897461 L 197902.25114453124,467619.20098974614 L 197901.97714453124,467619.65198974614 L 197899.69914453125,467623.4069897461 L 197903.85814453123,467625.9609897461 L 197903.81414453124,467626.0359897461 L 197902.51814453123,467628.26598974614 L 197904.37114453124,467629.4799897461 z\" /></g></svg>"
      ],
      "text/plain": [
       "<shapely.geometry.polygon.Polygon at 0x7fa6cd99e700>"
      ]
     },
     "metadata": {},
     "output_type": "display_data"
    }
   ],
   "source": [
    "display(surface)"
   ]
  },
  {
   "cell_type": "markdown",
   "metadata": {},
   "source": [
    "## Load walls"
   ]
  },
  {
   "cell_type": "code",
   "execution_count": 5,
   "metadata": {},
   "outputs": [],
   "source": [
    "import pickle \n",
    "file = open('input/walls/walls_0200100000532701.obj', 'rb') \n",
    "walls = pickle.load(file)"
   ]
  },
  {
   "cell_type": "code",
   "execution_count": 6,
   "metadata": {},
   "outputs": [
    {
     "data": {
      "image/svg+xml": [
       "<svg xmlns=\"http://www.w3.org/2000/svg\" xmlns:xlink=\"http://www.w3.org/1999/xlink\" width=\"246.27999999999997\" height=\"300\" viewBox=\"132.36 45.36 246.27999999999997 368.28\" preserveAspectRatio=\"xMinYMin meet\"><g transform=\"matrix(1,0,0,-1,0,459.0)\"><path fill-rule=\"evenodd\" fill=\"#66cc99\" stroke=\"#555555\" stroke-width=\"2.4551999999999996\" opacity=\"0.6\" d=\"M 146.0,59.0 L 146.0,400.0 L 154.0,400.0 L 365.0,400.0 L 365.0,393.0 L 365.0,389.0 L 365.0,335.0 L 365.0,308.0 L 365.0,301.0 L 365.0,116.0 L 365.0,103.0 L 291.0,103.0 L 287.0,103.0 L 287.0,72.0 L 287.0,59.0 L 154.0,59.0 L 146.0,59.0 z\" /></g></svg>"
      ],
      "text/plain": [
       "<shapely.geometry.polygon.Polygon at 0x7fa6cd9ba610>"
      ]
     },
     "metadata": {},
     "output_type": "display_data"
    }
   ],
   "source": [
    "walls_poly = Point()\n",
    "\n",
    "# combine all walls\n",
    "for wall in walls:\n",
    "    walls_poly = walls_poly.union(wall)\n",
    "\n",
    "# fill rooms\n",
    "for interior in walls_poly.interiors:\n",
    "    interior = Polygon(interior)\n",
    "    walls_poly = walls_poly.union(interior)\n",
    "    \n",
    "\n",
    "\n",
    "    \n",
    "display(walls_poly)"
   ]
  },
  {
   "cell_type": "markdown",
   "metadata": {},
   "source": [
    "## Load roads"
   ]
  },
  {
   "cell_type": "code",
   "execution_count": 28,
   "metadata": {},
   "outputs": [],
   "source": [
    "surface_np = np.array(surface.exterior.xy).T\n",
    "bbox_border = 10\n",
    "surface_bbox = [surface_np[:,0].min() - bbox_border, surface_np[:,1].min() - bbox_border, \n",
    "                surface_np[:,0].max() + bbox_border, surface_np[:,1].max() + bbox_border]\n",
    "nwb_roads = get_roads_as_linestrings(surface_bbox) "
   ]
  },
  {
   "cell_type": "code",
   "execution_count": 29,
   "metadata": {},
   "outputs": [
    {
     "data": {
      "image/svg+xml": [
       "<svg xmlns=\"http://www.w3.org/2000/svg\" xmlns:xlink=\"http://www.w3.org/1999/xlink\" width=\"100.0\" height=\"100.0\" viewBox=\"197883.25884 467612.09484000003 35.72531999999774 34.898319999920204\" preserveAspectRatio=\"xMinYMin meet\"><g transform=\"matrix(1,0,0,-1,0,935259.088)\"><g><polyline fill=\"none\" stroke=\"#66cc99\" stroke-width=\"0.7145063999999547\" points=\"197900.57,467645.67 197904.613,467639.146 197903.97,467636.206 197917.661,467613.418\" opacity=\"0.8\" /><polyline fill=\"none\" stroke=\"#66cc99\" stroke-width=\"0.7145063999999547\" points=\"197884.582,467636.022 197900.57,467645.67\" opacity=\"0.8\" /><path fill-rule=\"evenodd\" fill=\"#66cc99\" stroke=\"#555555\" stroke-width=\"0.7145063999999547\" opacity=\"0.6\" d=\"M 197904.37114453124,467629.4799897461 L 197905.86214453125,467627.01698974613 L 197905.47314453125,467626.7429897461 L 197905.15114453124,467626.51698974613 L 197907.33314453124,467622.9219897461 L 197910.27214453125,467618.0799897461 L 197906.77314453124,467615.9339897461 L 197906.13514453123,467616.9719897461 L 197904.09514453125,467615.73398974614 L 197902.06114453124,467619.0859897461 L 197902.25114453124,467619.20098974614 L 197901.97714453124,467619.65198974614 L 197899.69914453125,467623.4069897461 L 197903.85814453123,467625.9609897461 L 197903.81414453124,467626.0359897461 L 197902.51814453123,467628.26598974614 L 197904.37114453124,467629.4799897461 z\" /></g></g></svg>"
      ],
      "text/plain": [
       "<shapely.geometry.collection.GeometryCollection at 0x7fa6cd998c70>"
      ]
     },
     "metadata": {},
     "output_type": "display_data"
    }
   ],
   "source": [
    "# Display: \n",
    "surface_and_roads = surface\n",
    "for road in nwb_roads:\n",
    "    surface_and_roads = surface_and_roads.union(road)\n",
    "display(surface_and_roads)"
   ]
  },
  {
   "cell_type": "code",
   "execution_count": null,
   "metadata": {},
   "outputs": [],
   "source": []
  }
 ],
 "metadata": {
  "kernelspec": {
   "display_name": "Python 3",
   "language": "python",
   "name": "python3"
  },
  "language_info": {
   "codemirror_mode": {
    "name": "ipython",
    "version": 3
   },
   "file_extension": ".py",
   "mimetype": "text/x-python",
   "name": "python",
   "nbconvert_exporter": "python",
   "pygments_lexer": "ipython3",
   "version": "3.8.5"
  }
 },
 "nbformat": 4,
 "nbformat_minor": 4
}
